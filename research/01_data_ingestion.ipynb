{
 "cells": [
  {
   "cell_type": "code",
   "execution_count": 1,
   "metadata": {},
   "outputs": [],
   "source": [
    "import os"
   ]
  },
  {
   "cell_type": "code",
   "execution_count": 2,
   "metadata": {},
   "outputs": [
    {
     "data": {
      "text/plain": [
       "'d:\\\\MLflow_project\\\\research'"
      ]
     },
     "execution_count": 2,
     "metadata": {},
     "output_type": "execute_result"
    }
   ],
   "source": [
    "%pwd"
   ]
  },
  {
   "cell_type": "code",
   "execution_count": 3,
   "metadata": {},
   "outputs": [],
   "source": [
    "os.chdir(\"../\")"
   ]
  },
  {
   "cell_type": "code",
   "execution_count": 4,
   "metadata": {},
   "outputs": [
    {
     "data": {
      "text/plain": [
       "'d:\\\\MLflow_project'"
      ]
     },
     "execution_count": 4,
     "metadata": {},
     "output_type": "execute_result"
    }
   ],
   "source": [
    "%pwd"
   ]
  },
  {
   "cell_type": "code",
   "execution_count": 5,
   "metadata": {},
   "outputs": [],
   "source": [
    "from dataclasses import dataclass\n",
    "from pathlib import Path \n",
    "\n",
    "@dataclass(frozen=True)\n",
    "class DataIngestionConfig:\n",
    "    root_dir: Path\n",
    "    source_URL: str\n",
    "    local_data_files: Path\n",
    "    unzip_dir: Path"
   ]
  },
  {
   "cell_type": "code",
   "execution_count": 6,
   "metadata": {},
   "outputs": [],
   "source": [
    "from src.mlProject.constants import*\n",
    "# from src.mlProject.utils.common import read_yaml, create_directories"
   ]
  },
  {
   "cell_type": "code",
   "execution_count": 7,
   "metadata": {},
   "outputs": [],
   "source": [
    "from src.mlProject.utils import*"
   ]
  },
  {
   "cell_type": "code",
   "execution_count": 8,
   "metadata": {},
   "outputs": [],
   "source": [
    "# from mlProject.utils.common import create_directories, read_yaml\n",
    "\n",
    "\n",
    "from src.mlProject.utils.common import create_directories, read_yaml\n",
    "\n",
    "\n",
    "class ConfigurationManager:\n",
    "    def __init__(\n",
    "        self,\n",
    "        config_filepath = CONFIG_FILE_PATH,\n",
    "        params_filepath = PARAMS_FILE_PATH,\n",
    "        schema_filepath = SCHEMA_FILE_PATH):\n",
    "\n",
    "        self.config = read_yaml(config_filepath)\n",
    "        self.params = read_yaml(params_filepath)\n",
    "        self.schema = read_yaml(schema_filepath)\n",
    "\n",
    "        create_directories([self.config.artifacts_root]) # type: ignore\n",
    "\n",
    "    def get_data_ingestion_config(self) -> DataIngestionConfig:\n",
    "        config = self.config.data_ingestion\n",
    "\n",
    "        create_directories([config.root_dir])\n",
    "\n",
    "        data_ingestion_config = DataIngestionConfig(\n",
    "            root_dir=config.root_dir,\n",
    "            source_URL=config.source_URL,\n",
    "            local_data_file=config.local_data_file,\n",
    "            unzip_dir=config.unzip_dir\n",
    "        )\n",
    "\n",
    "        return data_ingestion_config"
   ]
  },
  {
   "cell_type": "code",
   "execution_count": 9,
   "metadata": {},
   "outputs": [],
   "source": [
    "import os\n",
    "import urllib.request as request\n",
    "import zipfile\n",
    "from src.mlProject import logger\n",
    "from src.mlProject.utils.common import get_size"
   ]
  },
  {
   "cell_type": "code",
   "execution_count": 10,
   "metadata": {},
   "outputs": [],
   "source": [
    "# class DataIngestionConfig:\n",
    "#     def __init__(self, config: DataIngestionConfig):\n",
    "#         self.config = config\n",
    "\n",
    "#     def download_file(self):\n",
    "#         if not os.path.exists(self.config.local_data_files):\n",
    "#             filename, headers = request.urlretrieve(\n",
    "#                 url = self.config.source_URL,\n",
    "#                 filename = self.config.local_data_files\n",
    "#             )\n",
    "#             logger.info(f\"{filename} download...with following info: \\n{headers}\")\n",
    "#         else:\n",
    "#             logger.info(f\"File already exists of size: {get_size(Path(self.config.local_data_files))}\")\n",
    "\n",
    "\n",
    "#     def extract_zip_file(self):\n",
    "#         unzip_path = self.config.unzip_dir\n",
    "#         os.makedirs(unzip_path, exist_ok=True)\n",
    "#         with zipfile.ZipFile(self.config.local_data_files, 'r') as zip_ref:\n",
    "#             zip_ref.extractall(unzip_path)\n",
    "\n",
    "# try:\n",
    "#     config = ConfigurationManager()\n",
    "#     data_ingestion_config = config.get_data_ingestion_config()\n",
    "#     data_ingestion = DataIngestion(config=data_ingestion_config) # type: ignore\n",
    "#     data_ingestion.download_file()\n",
    "#     data_ingestion.extract_zip_file()\n",
    "\n",
    "# except Exception as e:\n",
    "#     raise e\n",
    "\n",
    "        "
   ]
  },
  {
   "cell_type": "code",
   "execution_count": 11,
   "metadata": {},
   "outputs": [],
   "source": [
    "import boxsdk"
   ]
  },
  {
   "cell_type": "code",
   "execution_count": 12,
   "metadata": {},
   "outputs": [],
   "source": [
    "class DataIngestionConfig:\n",
    "    def __init__(self, root_dir, source_URL, local_data_file, unzip_dir):\n",
    "        self.root_dir = root_dir\n",
    "        self.source_URL = source_URL\n",
    "        self.local_data_file = local_data_file  # Corrected attribute name\n",
    "        self.unzip_dir = unzip_dir\n",
    "\n",
    "    def download_file(self):\n",
    "        if not os.path.exists(self.local_data_file):  # Corrected attribute name\n",
    "            filename, headers = request.urlretrieve(\n",
    "                url=self.source_URL,\n",
    "                filename=self.local_data_file\n",
    "            )\n",
    "            logger.info(f\"{filename} downloaded with the following info:\\n{headers}\")\n",
    "        else:\n",
    "            logger.info(f\"File already exists with size: {get_size(Path(self.local_data_file))}\")\n",
    "\n",
    "    def extract_zip_file(self):\n",
    "        unzip_path = self.unzip_dir\n",
    "        os.makedirs(unzip_path, exist_ok=True)\n",
    "        with zipfile.ZipFile(self.local_data_file, 'r') as zip_ref:  # Corrected attribute name\n",
    "            zip_ref.extractall(unzip_path)\n",
    "\n",
    "\n",
    "        try:\n",
    "            config = ConfigurationManager()\n",
    "            data_ingestion_config = config.get_data_ingestion_config()\n",
    "            data_ingestion = DataIngestionConfig(config=data_ingestion_config)\n",
    "            data_ingestion.download_file()\n",
    "            data_ingestion.extract_zip_file()\n",
    "\n",
    "        except Exception as e:\n",
    "            raise e\n",
    "\n"
   ]
  },
  {
   "cell_type": "code",
   "execution_count": 13,
   "metadata": {},
   "outputs": [
    {
     "name": "stdout",
     "output_type": "stream",
     "text": [
      "[2024-04-27 22:39:10,999: INFO: 687420122: File already exists: artifacts/data_ingestion/data.zip]\n",
      "[2024-04-27 22:39:11,015: INFO: 687420122: Zip file extracted to: artifacts/data_ingestion]\n"
     ]
    }
   ],
   "source": [
    "import os\n",
    "import zipfile\n",
    "import logging\n",
    "from urllib import request\n",
    "from pathlib import Path\n",
    "\n",
    "# Define logger\n",
    "logger = logging.getLogger(\"mlProjectLogger\")\n",
    "\n",
    "class DataIngestionConfig:\n",
    "    def __init__(self, root_dir, source_URL, local_data_file, unzip_dir):\n",
    "        self.root_dir = root_dir\n",
    "        self.source_URL = source_URL\n",
    "        self.local_data_file = local_data_file\n",
    "        self.unzip_dir = unzip_dir\n",
    "\n",
    "    def download_file(self):\n",
    "        if not os.path.exists(self.local_data_file):\n",
    "            try:\n",
    "                filename, headers = request.urlretrieve(\n",
    "                    url=self.source_URL,\n",
    "                    filename=self.local_data_file\n",
    "                )\n",
    "                logger.info(f\"{filename} downloaded with the following info:\\n{headers}\")\n",
    "            except Exception as e:\n",
    "                logger.error(f\"Error downloading file: {e}\")\n",
    "        else:\n",
    "            logger.info(f\"File already exists: {self.local_data_file}\")\n",
    "\n",
    "    def extract_zip_file(self):\n",
    "        try:\n",
    "            unzip_path = self.unzip_dir\n",
    "            os.makedirs(unzip_path, exist_ok=True)\n",
    "            with zipfile.ZipFile(self.local_data_file, 'r') as zip_ref:\n",
    "                zip_ref.extractall(unzip_path)\n",
    "            logger.info(f\"Zip file extracted to: {unzip_path}\")\n",
    "        except Exception as e:\n",
    "            logger.error(f\"Error extracting zip file: {e}\")\n",
    "\n",
    "if __name__ == \"__main__\":\n",
    "    try:\n",
    "        # Create an instance of DataIngestionConfig with your configuration\n",
    "        data_ingestion = DataIngestionConfig(\n",
    "            root_dir=\"artifacts\",\n",
    "            source_URL=\"https://github.com/Mayu21ad/dataset/raw/main/wine_quality.zip\",\n",
    "            local_data_file=\"artifacts/data_ingestion/data.zip\",\n",
    "            unzip_dir=\"artifacts/data_ingestion\"\n",
    "        )\n",
    "\n",
    "        # Download and extract the file\n",
    "        data_ingestion.download_file()\n",
    "        data_ingestion.extract_zip_file()\n",
    "    except Exception as e:\n",
    "        logger.error(f\"Error: {e}\")\n"
   ]
  },
  {
   "cell_type": "code",
   "execution_count": null,
   "metadata": {},
   "outputs": [],
   "source": []
  }
 ],
 "metadata": {
  "kernelspec": {
   "display_name": "mlops",
   "language": "python",
   "name": "python3"
  },
  "language_info": {
   "codemirror_mode": {
    "name": "ipython",
    "version": 3
   },
   "file_extension": ".py",
   "mimetype": "text/x-python",
   "name": "python",
   "nbconvert_exporter": "python",
   "pygments_lexer": "ipython3",
   "version": "3.12.2"
  }
 },
 "nbformat": 4,
 "nbformat_minor": 2
}
